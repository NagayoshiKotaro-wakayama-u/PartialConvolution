{
 "cells": [
  {
   "cell_type": "code",
   "execution_count": 2,
   "metadata": {},
   "outputs": [
    {
     "name": "stderr",
     "output_type": "stream",
     "text": [
      "C:\\Users\\kouta\\Anaconda3\\envs\\tensorflow\\lib\\site-packages\\h5py\\__init__.py:36: FutureWarning: Conversion of the second argument of issubdtype from `float` to `np.floating` is deprecated. In future, it will be treated as `np.float64 == np.dtype(float).type`.\n",
      "  from ._conv import register_converters as _register_converters\n"
     ]
    }
   ],
   "source": [
    "import tensorflow as tf\n",
    "import numpy as np\n",
    "import os\n",
    "import matplotlib as mpl\n",
    "# mpl.use('Agg')\n",
    "import matplotlib.pyplot as plt"
   ]
  },
  {
   "cell_type": "code",
   "execution_count": 3,
   "metadata": {},
   "outputs": [],
   "source": [
    "sess = tf.Session()\n",
    "\n",
    "def gaussian(x,sigma,mu):\n",
    "    #分散共分散行列の行列式\n",
    "    det = np.linalg.det(sigma)\n",
    "    #分散共分散行列の逆行列\n",
    "    inv = np.linalg.inv(sigma)\n",
    "    n = x.ndim\n",
    "    tmp = (x - mu).dot(inv)\n",
    "    diag = np.sum(tmp*(x - mu),axis=1)\n",
    "    return np.exp(-diag/2.0) / (np.sqrt((2 * np.pi) ** n * det))"
   ]
  },
  {
   "cell_type": "code",
   "execution_count": 8,
   "metadata": {},
   "outputs": [
    {
     "data": {
      "image/png": "[encoded data removed]",
      "text/plain": [
       "<Figure size 432x288 with 1 Axes>"
      ]
     },
     "metadata": {},
     "output_type": "display_data"
    },
    {
     "data": {
      "image/png": "[encoded data removed]",
      "text/plain": [
       "<Figure size 432x288 with 1 Axes>"
      ]
     },
     "metadata": {},
     "output_type": "display_data"
    },
    {
     "name": "stdout",
     "output_type": "stream",
     "text": [
      "0.9971113980718153\n"
     ]
    },
    {
     "data": {
      "image/png": "[encoded data removed]",
      "text/plain": [
       "<Figure size 432x288 with 1 Axes>"
      ]
     },
     "metadata": {},
     "output_type": "display_data"
    },
    {
     "name": "stdout",
     "output_type": "stream",
     "text": [
      "0.9971113980718153\n"
     ]
    }
   ],
   "source": [
    "X, Y = np.meshgrid(np.arange(0, 64, 1), np.arange(0, 64, 1)) # X座標,Y座標\n",
    "\n",
    "\n",
    "dataNum = 120\n",
    "\n",
    "# マスク画像\n",
    "mask_X = [int(64*i) for i in [np.random.rand() for _ in range(dataNum)]]\n",
    "mask_Y = [int(64*i) for i in [np.random.rand() for _ in range(dataNum)]]\n",
    "\n",
    "mask = np.zeros([64,64])\n",
    "for i,j in zip(mask_X,mask_Y):\n",
    "    mask[i,j] = 1\n",
    "plt.imshow(mask)\n",
    "plt.title(\"mask\")\n",
    "plt.show()\n",
    "\n",
    "# ================================\n",
    "# 予測値\n",
    "img = np.reshape(gaussian(np.c_[X.ravel(),Y.ravel()], np.array([[24,10],[10,42]]), [50,29]),[64,64])\n",
    "# img = np.ones([64,64])/4096\n",
    "plt.imshow(img*mask)\n",
    "plt.title(\"prediction\")\n",
    "plt.show()\n",
    "print(np.sum(img))\n",
    "x = tf.Variable(img) #予測値\n",
    "\n",
    "# ================================\n",
    "# 真値\n",
    "# img = np.reshape(gaussian(np.c_[X.ravel(),Y.ravel()], np.array([[32,10],[10,32]]), [26,32]),[64,64])\n",
    "plt.imshow(img)\n",
    "plt.title(\"true\")\n",
    "plt.show()\n",
    "print(np.sum(img))\n",
    "y = tf.Variable(img) #真値"
   ]
  },
  {
   "cell_type": "code",
   "execution_count": 9,
   "metadata": {},
   "outputs": [],
   "source": [
    "def compKL(p1,p2,smallV=1e-10):\n",
    "    kl = tf.reduce_sum(p1*(tf.math.log(p1+smallV) - tf.math.log(p2+smallV)))\n",
    "    return kl"
   ]
  },
  {
   "cell_type": "code",
   "execution_count": 10,
   "metadata": {},
   "outputs": [],
   "source": [
    "kl_loss = compKL(x,y)\n",
    "grad = tf.gradients(kl_loss,x)[0]\n",
    "\n",
    "sess.run(tf.global_variables_initializer())"
   ]
  },
  {
   "cell_type": "code",
   "execution_count": 11,
   "metadata": {},
   "outputs": [
    {
     "data": {
      "image/png": "[encoded data removed]",
      "text/plain": [
       "<Figure size 432x288 with 1 Axes>"
      ]
     },
     "metadata": {},
     "output_type": "display_data"
    },
    {
     "name": "stdout",
     "output_type": "stream",
     "text": [
      "[[5.25382011e-16 3.76834034e-15 2.58069410e-14 ... 5.88105770e-01\n",
      "  3.78673732e-01 1.98967750e-01]\n",
      " [6.43401413e-16 4.66594817e-15 3.23079423e-14 ... 7.73921744e-01\n",
      "  5.96350388e-01 3.78414648e-01]\n",
      " [7.67378580e-16 5.62665842e-15 3.93915362e-14 ... 8.88806456e-01\n",
      "  7.77180747e-01 5.92367543e-01]\n",
      " ...\n",
      " [1.20794585e-31 1.69622750e-30 2.27421867e-29 ... 9.95167302e-01\n",
      "  9.94222503e-01 9.92769710e-01]\n",
      " [2.95002823e-32 4.18837716e-31 5.67775806e-30 ... 9.89945408e-01\n",
      "  9.88122000e-01 9.85318265e-01]\n",
      " [7.01658395e-33 1.00722922e-31 1.38051902e-30 ... 9.78653779e-01\n",
      "  9.75103448e-01 9.69647971e-01]]\n"
     ]
    }
   ],
   "source": [
    "grad_value, kl_value = sess.run([grad,kl_loss])\n",
    "plt.imshow(grad_value)\n",
    "plt.title(\"gradient(KL-loss = {})\".format(kl_value))\n",
    "plt.show()\n",
    "\n",
    "print(grad_value)"
   ]
  },
  {
   "cell_type": "code",
   "execution_count": null,
   "metadata": {},
   "outputs": [],
   "source": []
  }
 ],
 "metadata": {
  "kernelspec": {
   "display_name": "Python 3",
   "language": "python",
   "name": "python3"
  },
  "language_info": {
   "codemirror_mode": {
    "name": "ipython",
    "version": 3
   },
   "file_extension": ".py",
   "mimetype": "text/x-python",
   "name": "python",
   "nbconvert_exporter": "python",
   "pygments_lexer": "ipython3",
   "version": "3.5.5"
  }
 },
 "nbformat": 4,
 "nbformat_minor": 2
}
