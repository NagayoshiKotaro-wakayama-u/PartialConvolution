{
 "cells": [
  {
   "cell_type": "code",
   "execution_count": 2,
   "metadata": {},
   "outputs": [
    {
     "name": "stderr",
     "output_type": "stream",
     "text": [
      "C:\\Users\\kouta\\Anaconda3\\envs\\tensorflow\\lib\\site-packages\\h5py\\__init__.py:36: FutureWarning: Conversion of the second argument of issubdtype from `float` to `np.floating` is deprecated. In future, it will be treated as `np.float64 == np.dtype(float).type`.\n",
      "  from ._conv import register_converters as _register_converters\n"
     ]
    }
   ],
   "source": [
    "import tensorflow as tf\n",
    "import numpy as np\n",
    "import os\n",
    "import matplotlib as mpl\n",
    "# mpl.use('Agg')\n",
    "import matplotlib.pyplot as plt"
   ]
  },
  {
   "cell_type": "code",
   "execution_count": 3,
   "metadata": {},
   "outputs": [],
   "source": [
    "sess = tf.Session()\n",
    "\n",
    "def gaussian(x,sigma,mu):\n",
    "    #分散共分散行列の行列式\n",
    "    det = np.linalg.det(sigma)\n",
    "    #分散共分散行列の逆行列\n",
    "    inv = np.linalg.inv(sigma)\n",
    "    n = x.ndim\n",
    "    tmp = (x - mu).dot(inv)\n",
    "    diag = np.sum(tmp*(x - mu),axis=1)\n",
    "    return np.exp(-diag/2.0) / (np.sqrt((2 * np.pi) ** n * det))"
   ]
  },
  {
   "cell_type": "code",
   "execution_count": 34,
   "metadata": {},
   "outputs": [
    {
     "data": {
      "image/png": "[encoded data removed]",
      "text/plain": [
       "<Figure size 432x288 with 1 Axes>"
      ]
     },
     "metadata": {},
     "output_type": "display_data"
    },
    {
     "data": {
      "image/png": "[encoded data removed]",
      "text/plain": [
       "<Figure size 432x288 with 1 Axes>"
      ]
     },
     "metadata": {},
     "output_type": "display_data"
    },
    {
     "data": {
      "image/png": "[encoded data removed]",
      "text/plain": [
       "<Figure size 432x288 with 1 Axes>"
      ]
     },
     "metadata": {},
     "output_type": "display_data"
    }
   ],
   "source": [
    "X, Y = np.meshgrid(np.arange(0, 64, 1), np.arange(0, 64, 1)) # X座標,Y座標\n",
    "\n",
    "dataNum = 30\n",
    "\n",
    "# マスク画像\n",
    "mask_X = [int(64*i) for i in [np.random.rand() for _ in range(dataNum)]]\n",
    "mask_Y = [int(64*i) for i in [np.random.rand() for _ in range(dataNum)]]\n",
    "\n",
    "mask = np.zeros([64,64])\n",
    "for i,j in zip(mask_X,mask_Y):\n",
    "    mask[i,j] = 1\n",
    "plt.imshow(mask)\n",
    "plt.title(\"mask\")\n",
    "plt.show()\n",
    "    \n",
    "# 予測画像\n",
    "img = np.reshape(gaussian(np.c_[X.ravel(),Y.ravel()], np.array([[24,10],[10,42]]), [50,29]),[64,64])\n",
    "# img = np.ones([64,64])/4096\n",
    "plt.imshow(img)\n",
    "plt.imshow(img*mask)\n",
    "plt.title(\"prediction\")\n",
    "plt.show()\n",
    "# print(np.sum(img))\n",
    "x = tf.Variable(img[np.newaxis,:,:,np.newaxis]) #予測値\n",
    "\n",
    "\n",
    "# 真値画像\n",
    "# img = np.reshape(gaussian(np.c_[X.ravel(),Y.ravel()], np.array([[32,10],[10,32]]), [26,32]),[64,64])\n",
    "plt.imshow(img)\n",
    "plt.title(\"true\")\n",
    "plt.show()\n",
    "# print(np.sum(img))\n",
    "y = tf.Variable(img[np.newaxis,:,:,np.newaxis]) #真値"
   ]
  },
  {
   "cell_type": "code",
   "execution_count": 35,
   "metadata": {},
   "outputs": [],
   "source": [
    "def compKL(p1,p2,smallV=1e-10):\n",
    "    kl = tf.reduce_sum(p1*(tf.math.log(p1+smallV) - tf.math.log(p2+smallV)))\n",
    "    return kl\n",
    "\n",
    "def compSpatialHist(x,kSize=16,sSize=2,isNormMode='sum',thre=0.05):\n",
    "    # binarize images\n",
    "#     x_bin = tf.nn.relu(x - thre)\n",
    "#     x_bin = tf.math.sign(x_bin)\n",
    "\n",
    "    # kernel with all ones\n",
    "    kernel = np.ones([kSize,kSize,1,1])\n",
    "    kernel = tf.constant(kernel, dtype=tf.float64)\n",
    "\n",
    "    # histogram using conv2d\n",
    "    x_conv = tf.nn.conv2d(x,kernel,strides=[1,sSize,sSize,1],padding='VALID')\n",
    "    shape = tf.shape(x_conv)\n",
    "    x_conv_flat = tf.reshape(x_conv,[shape[0],shape[1]*shape[2]])\n",
    "\n",
    "    if isNormMode == 'max':\n",
    "        x_conv_flat = x_conv_flat/tf.reduce_max(x_conv_flat,axis=1,keepdims=True)\n",
    "    elif isNormMode == 'sum':\n",
    "        x_conv_flat = x_conv_flat/tf.reduce_sum(x_conv_flat,axis=1,keepdims=True)\n",
    "\n",
    "    x_conv = tf.reshape(x_conv_flat,[shape[0],shape[1],shape[2]])\n",
    "\n",
    "    return x_conv\n",
    "\n",
    "hist_x = compSpatialHist(x)\n",
    "hist_y = compSpatialHist(y)"
   ]
  },
  {
   "cell_type": "code",
   "execution_count": 36,
   "metadata": {},
   "outputs": [],
   "source": [
    "kl_loss = compKL(hist_x,hist_y)\n",
    "grad = tf.gradients(kl_loss,x)[0]\n",
    "\n",
    "sess.run(tf.global_variables_initializer())"
   ]
  },
  {
   "cell_type": "code",
   "execution_count": 37,
   "metadata": {},
   "outputs": [
    {
     "data": {
      "image/png": "[encoded data removed]",
      "text/plain": [
       "<Figure size 432x288 with 1 Axes>"
      ]
     },
     "metadata": {},
     "output_type": "display_data"
    },
    {
     "name": "stdout",
     "output_type": "stream",
     "text": [
      "[[-1.89441025e-02 -1.89441025e-02 -3.78618429e-02 ... -2.15452923e-08\n",
      "  -1.28479216e-08 -1.28479216e-08]\n",
      " [-1.89441025e-02 -1.89441025e-02 -3.78618429e-02 ... -2.15452923e-08\n",
      "  -1.28479216e-08 -1.28479216e-08]\n",
      " [-3.78878608e-02 -3.78878608e-02 -7.57169531e-02 ... -3.03137560e-08\n",
      "  -1.81093742e-08 -1.81093742e-08]\n",
      " ...\n",
      " [-3.78917493e-02 -3.78917493e-02 -7.57834985e-02 ... -1.40477194e-07\n",
      "  -6.99598091e-08 -6.99598091e-08]\n",
      " [-1.89458746e-02 -1.89458746e-02 -3.78917493e-02 ... -1.01546744e-07\n",
      "  -5.04711819e-08 -5.04711819e-08]\n",
      " [-1.89458746e-02 -1.89458746e-02 -3.78917493e-02 ... -1.01546744e-07\n",
      "  -5.04711819e-08 -5.04711819e-08]]\n"
     ]
    }
   ],
   "source": [
    "grad_value, kl_value = sess.run([grad,kl_loss])\n",
    "plt.imshow(grad_value[0,:,:,0])\n",
    "plt.title(\"gradient(histKL-loss = {})\".format(kl_value))\n",
    "plt.show()\n",
    "\n",
    "print(grad_value[0,:,:,0])"
   ]
  },
  {
   "cell_type": "code",
   "execution_count": 38,
   "metadata": {},
   "outputs": [
    {
     "data": {
      "image/png": "[encoded data removed]",
      "text/plain": [
       "<Figure size 432x288 with 1 Axes>"
      ]
     },
     "metadata": {},
     "output_type": "display_data"
    },
    {
     "data": {
      "image/png": "[encoded data removed]",
      "text/plain": [
       "<Figure size 432x288 with 1 Axes>"
      ]
     },
     "metadata": {},
     "output_type": "display_data"
    }
   ],
   "source": [
    "xhist_value,yhist_value = sess.run([hist_x,hist_y])\n",
    "plt.imshow(xhist_value[0,:,:])\n",
    "plt.title(\"x Histgram\")\n",
    "plt.show()\n",
    "\n",
    "plt.imshow(yhist_value[0,:,:])\n",
    "plt.title(\"y Histgram\")\n",
    "plt.show()"
   ]
  },
  {
   "cell_type": "code",
   "execution_count": null,
   "metadata": {},
   "outputs": [],
   "source": []
  }
 ],
 "metadata": {
  "kernelspec": {
   "display_name": "Python 3",
   "language": "python",
   "name": "python3"
  },
  "language_info": {
   "codemirror_mode": {
    "name": "ipython",
    "version": 3
   },
   "file_extension": ".py",
   "mimetype": "text/x-python",
   "name": "python",
   "nbconvert_exporter": "python",
   "pygments_lexer": "ipython3",
   "version": "3.5.5"
  }
 },
 "nbformat": 4,
 "nbformat_minor": 2
}
